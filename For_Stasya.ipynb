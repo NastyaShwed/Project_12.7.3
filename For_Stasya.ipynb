{
  "nbformat": 4,
  "nbformat_minor": 0,
  "metadata": {
    "colab": {
      "name": "For_Stasya.ipynb",
      "provenance": [],
      "collapsed_sections": [],
      "include_colab_link": true
    },
    "kernelspec": {
      "name": "python3",
      "display_name": "Python 3"
    },
    "language_info": {
      "name": "python"
    }
  },
  "cells": [
    {
      "cell_type": "markdown",
      "metadata": {
        "id": "view-in-github",
        "colab_type": "text"
      },
      "source": [
        "<a href=\"https://colab.research.google.com/github/NastyaShwed/Project_12.7.3/blob/master/For_Stasya.ipynb\" target=\"_parent\"><img src=\"https://colab.research.google.com/assets/colab-badge.svg\" alt=\"Open In Colab\"/></a>"
      ]
    },
    {
      "cell_type": "code",
      "source": [
        "price_all = 0\n",
        "while True:\n",
        "    try:\n",
        "        ticket_number = input('Какое количество билетов Вы хотите приобрести на конференцию? ')\n",
        "        ticket_number = int(ticket_number)\n",
        "        if type(ticket_number) == int:\n",
        "            break\n",
        "    except ValueError:\n",
        "        print('Введите целое число')\n",
        "for i in range(ticket_number):\n",
        "    i += 1\n",
        "    while True:\n",
        "        try:\n",
        "            age_for_ticket = input(f'Укажите возраст посетителя №{i}? ')\n",
        "            age_for_ticket = int(age_for_ticket)\n",
        "            if age_for_ticket < 18:\n",
        "                print('Билет бесплатный')\n",
        "            elif 25 > age_for_ticket >= 18:\n",
        "                price_all += 990\n",
        "                print('Стоимость билета: 990 руб.')\n",
        "            else:\n",
        "                price_all += 1390\n",
        "                print('Стоимость билета: 1390 руб.')\n",
        "            if type(age_for_ticket) == int:\n",
        "                break\n",
        "        except ValueError:\n",
        "            print('Введите целое число')\n",
        "if ticket_number > 3:\n",
        "    price_all = price_all - ((price_all / 100) * 10)\n",
        "    print(f'Сумма к оплате {price_all} руб. с учетом 10%-ой скидки на полную стоимость заказа за регистрацию больше 3-х человек')\n",
        "else:\n",
        "    print(f'Сумма к оплате {price_all} руб.')"
      ],
      "metadata": {
        "colab": {
          "base_uri": "https://localhost:8080/"
        },
        "id": "TJwj03k1OKoL",
        "outputId": "2bf3c4bb-c560-4eda-852f-1b96a4165411"
      },
      "execution_count": 4,
      "outputs": [
        {
          "output_type": "stream",
          "name": "stdout",
          "text": [
            "Какое количество билетов Вы хотите приобрести на конференцию? 4\n",
            "Укажите возраст посетителя №1? 12\n",
            "Билет бесплатный\n",
            "Укажите возраст посетителя №2? 45\n",
            "Стоимость билета: 1390 руб.\n",
            "Укажите возраст посетителя №3? 30\n",
            "Стоимость билета: 1390 руб.\n",
            "Укажите возраст посетителя №4? 19\n",
            "Стоимость билета: 990 руб.\n",
            "Сумма к оплате 3393.0 руб. с учетом 10%-ой скидки на полную стоимость заказа за регистрацию больше 3-х человек\n"
          ]
        }
      ]
    }
  ]
}