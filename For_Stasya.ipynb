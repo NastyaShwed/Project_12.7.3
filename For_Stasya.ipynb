{
  "nbformat": 4,
  "nbformat_minor": 0,
  "metadata": {
    "colab": {
      "name": "For_Stasya.ipynb",
      "provenance": [],
      "collapsed_sections": [],
      "include_colab_link": true
    },
    "kernelspec": {
      "name": "python3",
      "display_name": "Python 3"
    },
    "language_info": {
      "name": "python"
    }
  },
  "cells": [
    {
      "cell_type": "markdown",
      "metadata": {
        "id": "view-in-github",
        "colab_type": "text"
      },
      "source": [
        "<a href=\"https://colab.research.google.com/github/NastyaShwed/Project_12.7.3/blob/master/For_Stasya.ipynb\" target=\"_parent\"><img src=\"https://colab.research.google.com/assets/colab-badge.svg\" alt=\"Open In Colab\"/></a>"
      ]
    },
    {
      "cell_type": "code",
      "execution_count": null,
      "metadata": {
        "id": "g5LciVkIVkTv"
      },
      "outputs": [],
      "source": [
        "per_cent = {'TKB': 5.6,\n",
        "            'SKB': 5.9,\n",
        "            'VTB': 4.28,\n",
        "            'SBER': 4.0}"
      ]
    },
    {
      "cell_type": "code",
      "source": [
        "for i in range(12):\n",
        "    print(i)\n"
      ],
      "metadata": {
        "colab": {
          "base_uri": "https://localhost:8080/"
        },
        "id": "-9dFdY322MbR",
        "outputId": "b8adf952-e775-4165-b346-9a1f20bd649a"
      },
      "execution_count": null,
      "outputs": [
        {
          "output_type": "stream",
          "name": "stdout",
          "text": [
            "0\n",
            "1\n",
            "2\n",
            "3\n",
            "4\n",
            "5\n",
            "6\n",
            "7\n",
            "8\n",
            "9\n",
            "10\n",
            "11\n"
          ]
        }
      ]
    },
    {
      "cell_type": "code",
      "source": [
        " price_all = 0\n",
        "while True:\n",
        "    try:\n",
        "        ticket_number = input('Сколько билетов вы хотите приобрести на мероприятие? ')\n",
        "        ticket_number = int(ticket_number)\n",
        "        if type(ticket_number) == int:\n",
        "            break\n",
        "    except ValueError:\n",
        "        print('Введите целое число')\n",
        "for i in range(ticket_number):\n",
        "    i += 1\n",
        "    while True:\n",
        "        try:\n",
        "            age_for_ticket = input(f'Для какого возраста билет №{i}? ')\n",
        "            age_for_ticket = int(age_for_ticket)\n",
        "            if age_for_ticket < 18:\n",
        "                print('Билет бесплатный')\n",
        "            elif 25 > age_for_ticket >= 18:\n",
        "                price_all += 990\n",
        "                print('Стоимость билета: 990 руб.')\n",
        "            else:\n",
        "                price_all += 1390\n",
        "                print('Стоимость билета: 1390 руб.')\n",
        "            if type(age_for_ticket) == int:\n",
        "                break\n",
        "        except ValueError:\n",
        "            print('Введите целое число')\n",
        "if ticket_number > 3:\n",
        "    price_all = price_all - ((price_all / 100) * 10)\n",
        "    print(f'Сумма к оплате {price_all} руб. с учетом 10%-ой скидки на полную стоимость заказа за регистрацию больше 3-х человек')\n",
        "else:\n",
        "    print(f'Сумма к оплате {price_all} руб.')"
      ],
      "metadata": {
        "colab": {
          "base_uri": "https://localhost:8080/"
        },
        "id": "TJwj03k1OKoL",
        "outputId": "4cd8f76d-bb87-467c-ae2e-e8466aec7503"
      },
      "execution_count": 3,
      "outputs": [
        {
          "output_type": "stream",
          "name": "stdout",
          "text": [
            "Сколько билетов вы хотите приобрести на мероприятие? 2\n",
            "Для какого возраста билет №1? 6\n",
            "Билет бесплатный\n",
            "Для какого возраста билет №2? 42\n",
            "Стоимость билета: 1390 руб.\n",
            "Сумма к оплате 1390 руб.\n"
          ]
        }
      ]
    },
    {
      "cell_type": "code",
      "source": [
        "#далее идет некая неизвестная программа, которую ты, видимо, и тестируешь\n",
        "#эта программа выдает deposit, получая на вход money и иcпользуя свои собственные данные по процентам\n",
        "deposit = [5600, 5900, 4280, 4000]"
      ],
      "metadata": {
        "id": "BBMztNzmV7tG"
      },
      "execution_count": null,
      "outputs": []
    },
    {
      "cell_type": "code",
      "source": [
        "print('Максимальная сумма, которую вы можете заработать -', max(deposit))"
      ],
      "metadata": {
        "colab": {
          "base_uri": "https://localhost:8080/"
        },
        "id": "DB6mTVGhWtLV",
        "outputId": "732ed4df-9ab9-439c-94ee-e13922419814"
      },
      "execution_count": null,
      "outputs": [
        {
          "output_type": "stream",
          "name": "stdout",
          "text": [
            "Максимальная сумма, которую вы можете заработать - 5900\n"
          ]
        }
      ]
    }
  ]
}